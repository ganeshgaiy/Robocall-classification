{
  "cells": [
    {
      "cell_type": "markdown",
      "metadata": {
        "id": "view-in-github",
        "colab_type": "text"
      },
      "source": [
        "<a href=\"https://colab.research.google.com/github/ganeshgaiy/Robocall-classification/blob/main/robocall_detection.ipynb\" target=\"_parent\"><img src=\"https://colab.research.google.com/assets/colab-badge.svg\" alt=\"Open In Colab\"/></a>"
      ]
    },
    {
      "cell_type": "code",
      "execution_count": 2,
      "metadata": {
        "colab": {
          "base_uri": "https://localhost:8080/"
        },
        "id": "QPN-UPdtS-zH",
        "outputId": "db9a41de-84af-40bb-aaf4-426e8a7dedf6"
      },
      "outputs": [
        {
          "output_type": "stream",
          "name": "stdout",
          "text": [
            "Requirement already satisfied: librosa in /usr/local/lib/python3.10/dist-packages (0.10.2.post1)\n",
            "Requirement already satisfied: audioread>=2.1.9 in /usr/local/lib/python3.10/dist-packages (from librosa) (3.0.1)\n",
            "Requirement already satisfied: numpy!=1.22.0,!=1.22.1,!=1.22.2,>=1.20.3 in /usr/local/lib/python3.10/dist-packages (from librosa) (1.26.4)\n",
            "Requirement already satisfied: scipy>=1.2.0 in /usr/local/lib/python3.10/dist-packages (from librosa) (1.13.1)\n",
            "Requirement already satisfied: scikit-learn>=0.20.0 in /usr/local/lib/python3.10/dist-packages (from librosa) (1.5.2)\n",
            "Requirement already satisfied: joblib>=0.14 in /usr/local/lib/python3.10/dist-packages (from librosa) (1.4.2)\n",
            "Requirement already satisfied: decorator>=4.3.0 in /usr/local/lib/python3.10/dist-packages (from librosa) (4.4.2)\n",
            "Requirement already satisfied: numba>=0.51.0 in /usr/local/lib/python3.10/dist-packages (from librosa) (0.60.0)\n",
            "Requirement already satisfied: soundfile>=0.12.1 in /usr/local/lib/python3.10/dist-packages (from librosa) (0.12.1)\n",
            "Requirement already satisfied: pooch>=1.1 in /usr/local/lib/python3.10/dist-packages (from librosa) (1.8.2)\n",
            "Requirement already satisfied: soxr>=0.3.2 in /usr/local/lib/python3.10/dist-packages (from librosa) (0.5.0.post1)\n",
            "Requirement already satisfied: typing-extensions>=4.1.1 in /usr/local/lib/python3.10/dist-packages (from librosa) (4.12.2)\n",
            "Requirement already satisfied: lazy-loader>=0.1 in /usr/local/lib/python3.10/dist-packages (from librosa) (0.4)\n",
            "Requirement already satisfied: msgpack>=1.0 in /usr/local/lib/python3.10/dist-packages (from librosa) (1.1.0)\n",
            "Requirement already satisfied: packaging in /usr/local/lib/python3.10/dist-packages (from lazy-loader>=0.1->librosa) (24.2)\n",
            "Requirement already satisfied: llvmlite<0.44,>=0.43.0dev0 in /usr/local/lib/python3.10/dist-packages (from numba>=0.51.0->librosa) (0.43.0)\n",
            "Requirement already satisfied: platformdirs>=2.5.0 in /usr/local/lib/python3.10/dist-packages (from pooch>=1.1->librosa) (4.3.6)\n",
            "Requirement already satisfied: requests>=2.19.0 in /usr/local/lib/python3.10/dist-packages (from pooch>=1.1->librosa) (2.32.3)\n",
            "Requirement already satisfied: threadpoolctl>=3.1.0 in /usr/local/lib/python3.10/dist-packages (from scikit-learn>=0.20.0->librosa) (3.5.0)\n",
            "Requirement already satisfied: cffi>=1.0 in /usr/local/lib/python3.10/dist-packages (from soundfile>=0.12.1->librosa) (1.17.1)\n",
            "Requirement already satisfied: pycparser in /usr/local/lib/python3.10/dist-packages (from cffi>=1.0->soundfile>=0.12.1->librosa) (2.22)\n",
            "Requirement already satisfied: charset-normalizer<4,>=2 in /usr/local/lib/python3.10/dist-packages (from requests>=2.19.0->pooch>=1.1->librosa) (3.4.0)\n",
            "Requirement already satisfied: idna<4,>=2.5 in /usr/local/lib/python3.10/dist-packages (from requests>=2.19.0->pooch>=1.1->librosa) (3.10)\n",
            "Requirement already satisfied: urllib3<3,>=1.21.1 in /usr/local/lib/python3.10/dist-packages (from requests>=2.19.0->pooch>=1.1->librosa) (2.2.3)\n",
            "Requirement already satisfied: certifi>=2017.4.17 in /usr/local/lib/python3.10/dist-packages (from requests>=2.19.0->pooch>=1.1->librosa) (2024.8.30)\n"
          ]
        }
      ],
      "source": [
        "!pip install librosa"
      ]
    },
    {
      "cell_type": "code",
      "execution_count": 3,
      "metadata": {
        "id": "l6gUyqfAT6yM"
      },
      "outputs": [],
      "source": [
        "import librosa\n",
        "import numpy as np\n",
        "import pandas as pd\n",
        "import matplotlib.pyplot as plt\n",
        "import os"
      ]
    },
    {
      "cell_type": "code",
      "execution_count": 4,
      "metadata": {
        "id": "ixeM6xdQUC1y"
      },
      "outputs": [],
      "source": [
        "import librosa\n",
        "import numpy as np\n",
        "\n",
        "def extract_features(file_path):\n",
        "    y, sr = librosa.load(file_path, sr=None)\n",
        "\n",
        "    # Extract MFCCs\n",
        "    mfccs = librosa.feature.mfcc(y=y, sr=sr, n_mfcc=13)\n",
        "    mfccs_mean = np.mean(mfccs, axis=1)\n",
        "\n",
        "    # Calculate suitable fmin and n_bands for spectral contrast\n",
        "    nyquist = sr / 2\n",
        "    fmin = 200.0  # Starting frequency for the first band\n",
        "    n_bands = int(np.floor(np.log2(nyquist / fmin)))  # Number of octaves within Nyquist limit\n",
        "\n",
        "    # Extract Spectral Contrast\n",
        "    spectral_contrast = librosa.feature.spectral_contrast(y=y, sr=sr, fmin=fmin, n_bands=n_bands)\n",
        "    spectral_contrast_mean = np.mean(spectral_contrast, axis=1)\n",
        "\n",
        "    # Extract Chroma Features\n",
        "    chroma = librosa.feature.chroma_stft(y=y, sr=sr)\n",
        "    chroma_mean = np.mean(chroma, axis=1)\n",
        "\n",
        "    # Combine features\n",
        "    features = np.hstack([mfccs_mean, spectral_contrast_mean, chroma_mean])\n",
        "\n",
        "    return features\n"
      ]
    },
    {
      "cell_type": "code",
      "execution_count": 5,
      "metadata": {
        "colab": {
          "base_uri": "https://localhost:8080/"
        },
        "id": "1ydJ54ycXF_-",
        "outputId": "759a6463-232a-4eda-d7ca-8a21b7e260ea"
      },
      "outputs": [
        {
          "output_type": "stream",
          "name": "stdout",
          "text": [
            "/content\n"
          ]
        }
      ],
      "source": [
        "print(os.getcwd())\n"
      ]
    },
    {
      "cell_type": "code",
      "execution_count": null,
      "metadata": {
        "id": "ylvp--ivUHtb"
      },
      "outputs": [],
      "source": [
        "# Directories containing audio files\n",
        "robocall_dir = '/content/drive/MyDrive/Colab Notebooks/robocall_dataset/dataset/robocall'\n",
        "normal_call_dir = '/content/drive/MyDrive/Colab Notebooks/robocall_dataset/dataset/normal_call'\n",
        "\n",
        "# Initialize lists to hold features and labels\n",
        "features_list = []\n",
        "labels_list = []\n",
        "\n",
        "# Process robocall files\n",
        "for file_name in os.listdir(robocall_dir):\n",
        "    if file_name.endswith('.wav'):\n",
        "        file_path = os.path.join(robocall_dir, file_name)\n",
        "        features = extract_features(file_path)\n",
        "        features_list.append(features)\n",
        "        labels_list.append(1)  # Label for robocall\n",
        "\n",
        "# Process normal call files\n",
        "for file_name in os.listdir(normal_call_dir):\n",
        "    if file_name.endswith('.wav'):\n",
        "        file_path = os.path.join(normal_call_dir, file_name)\n",
        "        features = extract_features(file_path)\n",
        "        features_list.append(features)\n",
        "        labels_list.append(0)  # Label for normal call\n",
        "\n",
        "# Create DataFrame\n",
        "df = pd.DataFrame(features_list)\n",
        "df['label'] = labels_list\n",
        "\n",
        "# Save to CSV\n",
        "df.to_csv('/content/drive/MyDrive/Colab Notebooks/robocall_dataset/audio_features.csv', index=False)\n"
      ]
    },
    {
      "cell_type": "code",
      "execution_count": null,
      "metadata": {
        "id": "Lp-2hZ4KcBQX"
      },
      "outputs": [],
      "source": [
        "import pandas as pd\n",
        "from sklearn.model_selection import train_test_split\n",
        "\n",
        "# Load the dataset\n",
        "df = pd.read_csv('/content/drive/MyDrive/Colab Notebooks/robocall_dataset/audio_features.csv')\n",
        "\n"
      ]
    },
    {
      "cell_type": "code",
      "execution_count": null,
      "metadata": {
        "id": "4atjExlpf3Mf"
      },
      "outputs": [],
      "source": [
        "df['label'].value_counts()"
      ]
    },
    {
      "cell_type": "code",
      "execution_count": null,
      "metadata": {
        "id": "-gigsZFI8-qe"
      },
      "outputs": [],
      "source": [
        "print(df)"
      ]
    },
    {
      "cell_type": "code",
      "execution_count": null,
      "metadata": {
        "id": "3FxiZzPRf4yo"
      },
      "outputs": [],
      "source": [
        "import pandas as pd\n",
        "from sklearn.model_selection import train_test_split\n",
        "from sklearn.impute import SimpleImputer\n",
        "from sklearn.pipeline import Pipeline\n",
        "from sklearn.linear_model import LogisticRegression\n",
        "from sklearn.ensemble import RandomForestClassifier\n",
        "from sklearn.svm import SVC\n",
        "from sklearn.metrics import accuracy_score, classification_report\n",
        "from sklearn.preprocessing import StandardScaler\n",
        "from sklearn.pipeline import Pipeline\n",
        "from sklearn.utils import shuffle\n",
        "\n",
        "# Separate features and labels\n",
        "X = df.drop(columns=['label'])\n",
        "y = df['label']\n",
        "# Shuffle the dataset\n",
        "X_shuffled, y_shuffled = shuffle(X, y, random_state=42)\n",
        "# Split the data\n",
        "X_train, X_test, y_train, y_test = train_test_split(X, y, test_size=0.2, shuffle=True, stratify=y)\n",
        "\n",
        "\n",
        "\n"
      ]
    },
    {
      "cell_type": "code",
      "execution_count": null,
      "metadata": {
        "id": "yry0ttLi6o35"
      },
      "outputs": [],
      "source": [
        "print(y_train)"
      ]
    },
    {
      "cell_type": "code",
      "execution_count": null,
      "metadata": {
        "id": "iyII7k3b9mWy"
      },
      "outputs": [],
      "source": [
        "# with pd.option_context('display.max_rows', None):\n",
        "#     print(y)"
      ]
    },
    {
      "cell_type": "code",
      "execution_count": null,
      "metadata": {
        "id": "w2CFHlAVgShw"
      },
      "outputs": [],
      "source": [
        "# Define a pipeline with imputation and the classifier\n",
        "def create_pipeline(classifier):\n",
        "    return Pipeline([\n",
        "        ('scaler', StandardScaler()),\n",
        "        ('imputer', SimpleImputer(strategy='mean')),  # Impute missing values with the mean\n",
        "        ('classifier', classifier)\n",
        "    ])\n"
      ]
    },
    {
      "cell_type": "code",
      "execution_count": null,
      "metadata": {
        "id": "7DQZMyRagezy"
      },
      "outputs": [],
      "source": [
        "# Initialize classifiers\n",
        "classifiers = {\n",
        "    'Support Vector Machine': SVC(random_state=42)\n",
        "}\n",
        "\n",
        "# Train and evaluate each classifier\n",
        "for name, classifier in classifiers.items():\n",
        "    pipeline = create_pipeline(classifier)\n",
        "    pipeline.fit(X_train, y_train)\n",
        "    y_pred = pipeline.predict(X_test)\n",
        "    print(y_pred)\n",
        "    print(f\"{name} Performance:\")\n",
        "    print(f\"Accuracy: {accuracy_score(y_test, y_pred):.2f}\")\n",
        "    print(classification_report(y_test, y_pred))\n",
        "    print(\"-\" * 60)"
      ]
    },
    {
      "cell_type": "code",
      "execution_count": null,
      "metadata": {
        "id": "D_rd5wPFgkok"
      },
      "outputs": [],
      "source": [
        "from sklearn.model_selection import cross_val_score\n",
        "\n",
        "# Define the StratifiedKFold cross-validator with shuffling\n",
        "cv = StratifiedKFold(n_splits=10, shuffle=True, random_state=42)\n",
        "\n",
        "for name, classifier in classifiers.items():\n",
        "    pipeline = create_pipeline(classifier)\n",
        "    cv_scores = cross_val_score(pipeline, X, y, cv=cv)\n",
        "    print(f\"{name} Cross-Validation Accuracy: {cv_scores.mean():.2f} ± {cv_scores.std():.2f}\")\n"
      ]
    },
    {
      "cell_type": "code",
      "execution_count": null,
      "metadata": {
        "id": "HSQCZ_4Tjys_"
      },
      "outputs": [],
      "source": [
        "from sklearn.model_selection import StratifiedKFold\n",
        "from sklearn.model_selection import learning_curve\n",
        "import matplotlib.pyplot as plt\n",
        "def plot_learning_curve(estimator, title, X, y, cv=None, n_jobs=None):\n",
        "    if cv is None:\n",
        "        cv = StratifiedKFold(n_splits=5)\n",
        "    train_sizes, train_scores, val_scores = learning_curve(\n",
        "        estimator, X, y, cv=cv, n_jobs=n_jobs, train_sizes=np.linspace(0.1, 1.0, 5)\n",
        "    )\n",
        "    train_scores_mean = np.mean(train_scores, axis=1)\n",
        "    val_scores_mean = np.mean(val_scores, axis=1)\n",
        "\n",
        "    plt.figure()\n",
        "    plt.title(title)\n",
        "    plt.xlabel(\"Training examples\")\n",
        "    plt.ylabel(\"Score\")\n",
        "    plt.plot(train_sizes, train_scores_mean, 'o-', color=\"r\", label=\"Training score\")\n",
        "    plt.plot(train_sizes, val_scores_mean, 'o-', color=\"g\", label=\"Cross-validation score\")\n",
        "    plt.legend(loc=\"best\")\n",
        "    plt.show()\n",
        "\n",
        "for name, classifier in classifiers.items():\n",
        "    pipeline = create_pipeline(classifier)\n",
        "    plot_learning_curve(pipeline, f\"{name} Learning Curve\", X, y, cv=10)\n"
      ]
    },
    {
      "cell_type": "code",
      "execution_count": null,
      "metadata": {
        "id": "uFngV9w8j8BV"
      },
      "outputs": [],
      "source": [
        "!pip install opensmile"
      ]
    },
    {
      "cell_type": "code",
      "execution_count": null,
      "metadata": {
        "id": "N3PL5SN3UlmH"
      },
      "outputs": [],
      "source": [
        "import opensmile\n",
        "def ldd_extract_features(file_path):\n",
        "  smile = opensmile.Smile(\n",
        "    feature_set=opensmile.FeatureSet.GeMAPSv01b,\n",
        "    feature_level=opensmile.FeatureLevel.Functionals,\n",
        "  )\n",
        "  features = smile.process_file(file_path)"
      ]
    },
    {
      "cell_type": "code",
      "execution_count": null,
      "metadata": {
        "id": "6KhFhUnNkF3F"
      },
      "outputs": [],
      "source": [
        "# Directories containing audio files\n",
        "robocall_dir = '/content/drive/MyDrive/Colab Notebooks/robocall_dataset/dataset/robocall'\n",
        "normal_call_dir = '/content/drive/MyDrive/Colab Notebooks/robocall_dataset/dataset/normal_call'\n",
        "\n",
        "# Initialize lists to hold features and labels\n",
        "ldd_features_list = []\n",
        "ldd_labels_list = []\n",
        "\n",
        "# Process robocall files\n",
        "for file_name in os.listdir(robocall_dir):\n",
        "    if file_name.endswith('.wav'):\n",
        "        file_path = os.path.join(robocall_dir, file_name)\n",
        "        features = ldd_extract_features(file_path)\n",
        "        ldd_features_list.append(features)\n",
        "        ldd_labels_list.append(1)  # Label for robocall\n",
        "\n",
        "# Process normal call files\n",
        "for file_name in os.listdir(normal_call_dir):\n",
        "    if file_name.endswith('.wav'):\n",
        "        file_path = os.path.join(normal_call_dir, file_name)\n",
        "        features = ldd_extract_features(file_path)\n",
        "        ldd_features_list.append(features)\n",
        "        ldd_labels_list.append(0)  # Label for normal call\n",
        "\n",
        "# Create DataFrame\n",
        "df = pd.DataFrame(ldd_features_list)\n",
        "df['label'] = ldd_labels_list\n",
        "\n",
        "# Save to CSV\n",
        "df.to_csv('/content/drive/MyDrive/Colab Notebooks/robocall_dataset/ldd_audio_features.csv', index=False)\n"
      ]
    },
    {
      "cell_type": "code",
      "execution_count": null,
      "metadata": {
        "id": "0geHwS3SVaG4"
      },
      "outputs": [],
      "source": []
    }
  ],
  "metadata": {
    "accelerator": "GPU",
    "colab": {
      "gpuType": "T4",
      "machine_shape": "hm",
      "provenance": [],
      "mount_file_id": "18wB30xfEi9ZvfAtowaDIhVYxQ8RkbjPu",
      "authorship_tag": "ABX9TyOdlvzvTgWFy+qfKY7Njq94",
      "include_colab_link": true
    },
    "kernelspec": {
      "display_name": "Python 3",
      "name": "python3"
    },
    "language_info": {
      "name": "python"
    }
  },
  "nbformat": 4,
  "nbformat_minor": 0
}